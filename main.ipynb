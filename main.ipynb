{
 "cells": [
  {
   "cell_type": "code",
   "execution_count": 1,
   "metadata": {},
   "outputs": [
    {
     "ename": "ModuleNotFoundError",
     "evalue": "No module named 'pyspark'",
     "output_type": "error",
     "traceback": [
      "\u001b[0;31m---------------------------------------------------------------------------\u001b[0m",
      "\u001b[0;31mModuleNotFoundError\u001b[0m                       Traceback (most recent call last)",
      "\u001b[1;32m/Users/erfankashani/code/src/github.com/erfan_github/data_profiler/main.ipynb Cell 1'\u001b[0m in \u001b[0;36m<cell line: 1>\u001b[0;34m()\u001b[0m\n\u001b[0;32m----> <a href='vscode-notebook-cell:/Users/erfankashani/code/src/github.com/erfan_github/data_profiler/main.ipynb#ch0000000?line=0'>1</a>\u001b[0m \u001b[39mfrom\u001b[39;00m \u001b[39mprofiling\u001b[39;00m\u001b[39m.\u001b[39;00m\u001b[39mcontext_manager\u001b[39;00m\u001b[39m.\u001b[39;00m\u001b[39mspark_context_manager\u001b[39;00m \u001b[39mimport\u001b[39;00m SparkContextManager\n",
      "File \u001b[0;32m~/code/src/github.com/erfan_github/data_profiler/profiling/context_manager/spark_context_manager.py:1\u001b[0m, in \u001b[0;36m<module>\u001b[0;34m\u001b[0m\n\u001b[0;32m----> <a href='file:///Users/erfankashani/code/src/github.com/erfan_github/data_profiler/profiling/context_manager/spark_context_manager.py?line=0'>1</a>\u001b[0m \u001b[39mfrom\u001b[39;00m \u001b[39mpyspark\u001b[39;00m\u001b[39m.\u001b[39;00m\u001b[39msql\u001b[39;00m \u001b[39mimport\u001b[39;00m SparkSession\n\u001b[1;32m      <a href='file:///Users/erfankashani/code/src/github.com/erfan_github/data_profiler/profiling/context_manager/spark_context_manager.py?line=2'>3</a>\u001b[0m \u001b[39mclass\u001b[39;00m \u001b[39mSparkContextManager\u001b[39;00m:\n\u001b[1;32m      <a href='file:///Users/erfankashani/code/src/github.com/erfan_github/data_profiler/profiling/context_manager/spark_context_manager.py?line=3'>4</a>\u001b[0m     _spark_queue \u001b[39m=\u001b[39m []\n",
      "\u001b[0;31mModuleNotFoundError\u001b[0m: No module named 'pyspark'"
     ]
    }
   ],
   "source": [
    "from profiling.context_manager.spark_context_manager import SparkContextManager"
   ]
  }
 ],
 "metadata": {
  "interpreter": {
   "hash": "aee8b7b246df8f9039afb4144a1f6fd8d2ca17a180786b69acc140d282b71a49"
  },
  "kernelspec": {
   "display_name": "Python 3.9.1 64-bit",
   "language": "python",
   "name": "python3"
  },
  "language_info": {
   "codemirror_mode": {
    "name": "ipython",
    "version": 3
   },
   "file_extension": ".py",
   "mimetype": "text/x-python",
   "name": "python",
   "nbconvert_exporter": "python",
   "pygments_lexer": "ipython3",
   "version": "3.9.1"
  },
  "orig_nbformat": 4
 },
 "nbformat": 4,
 "nbformat_minor": 2
}
